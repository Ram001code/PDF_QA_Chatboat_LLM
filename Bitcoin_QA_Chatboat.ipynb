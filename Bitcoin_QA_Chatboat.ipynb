{
 "cells": [
  {
   "cell_type": "code",
   "execution_count": 1,
   "id": "53e1118c",
   "metadata": {},
   "outputs": [],
   "source": [
    "# !pip install langchain"
   ]
  },
  {
   "cell_type": "code",
   "execution_count": 2,
   "id": "6edce4bf",
   "metadata": {},
   "outputs": [],
   "source": [
    "# !pip install Openai"
   ]
  },
  {
   "cell_type": "code",
   "execution_count": 3,
   "id": "8e4c93a4",
   "metadata": {},
   "outputs": [],
   "source": [
    "# !pip install chromadb"
   ]
  },
  {
   "cell_type": "code",
   "execution_count": 4,
   "id": "68e927c0",
   "metadata": {},
   "outputs": [],
   "source": [
    "# !pip install tiktoken"
   ]
  },
  {
   "cell_type": "code",
   "execution_count": 5,
   "id": "7bbba5da",
   "metadata": {},
   "outputs": [],
   "source": [
    "from langchain.vectorstores.chroma import Chroma\n",
    "from langchain.embeddings.openai import OpenAIEmbeddings\n",
    "from langchain.text_splitter import CharacterTextSplitter\n",
    "from langchain.document_loaders import DirectoryLoader, UnstructuredMarkdownLoader\n",
    "from langchain.chat_models import ChatOpenAI\n",
    "from langchain.chains import ConversationalRetrievalChain\n",
    "from langchain.memory import ConversationBufferMemory"
   ]
  },
  {
   "cell_type": "code",
   "execution_count": 6,
   "id": "1c182aa8",
   "metadata": {},
   "outputs": [],
   "source": [
    "########### Embeddings ###########\n",
    "import os\n",
    "import openai\n",
    "from langchain.embeddings import OpenAIEmbeddings\n",
    " \n",
    "os.environ[\"OPENAI_API_TYPE\"] = openai.api_type = \"azure\"\n",
    "os.environ[\"OPENAI_API_VERSION\"] = openai.api_version = \"2022-12-01\" #\"2023-03-15-preview\"\n",
    "os.environ[\"OPENAI_API_BASE\"] = openai.api_base =  \"https://idocopenaigpt.openai.azure.com/\"\n",
    "os.environ[\"OPENAI_API_KEY\"] = openai.api_key = \"********************************\"#os.getenv(\"AZUREOPENAI_API_KEY\")\n",
    " \n",
    "embeddings = OpenAIEmbeddings(deployment=\"idocembedd\")\n"
   ]
  },
  {
   "cell_type": "code",
   "execution_count": 8,
   "id": "327bce44",
   "metadata": {},
   "outputs": [
    {
     "name": "stdout",
     "output_type": "stream",
     "text": [
      "Collecting pypdf\n",
      "  Obtaining dependency information for pypdf from https://files.pythonhosted.org/packages/74/a9/5ccde1312650dd03e65350224fea85d9a430c182a01f056599cbb76f7390/pypdf-3.17.0-py3-none-any.whl.metadata\n",
      "  Downloading pypdf-3.17.0-py3-none-any.whl.metadata (7.5 kB)\n",
      "Downloading pypdf-3.17.0-py3-none-any.whl (277 kB)\n",
      "   ---------------------------------------- 0.0/277.4 kB ? eta -:--:--\n",
      "   - -------------------------------------- 10.2/277.4 kB ? eta -:--:--\n",
      "   ----- --------------------------------- 41.0/277.4 kB 991.0 kB/s eta 0:00:01\n",
      "   -------------------------------- ------- 225.3/277.4 kB 2.3 MB/s eta 0:00:01\n",
      "   ---------------------------------------- 277.4/277.4 kB 2.5 MB/s eta 0:00:00\n",
      "Installing collected packages: pypdf\n",
      "Successfully installed pypdf-3.17.0\n"
     ]
    }
   ],
   "source": [
    "!pip install pypdf"
   ]
  },
  {
   "cell_type": "code",
   "execution_count": 9,
   "id": "f33e8b49",
   "metadata": {},
   "outputs": [
    {
     "name": "stdout",
     "output_type": "stream",
     "text": [
      "9\n",
      "Bitcoin: A Peer-to-Peer Electronic Cash System\n",
      "Satoshi Nakamoto\n",
      "satoshin@gmx.com\n",
      "www.bitcoin.org\n",
      "Abstract.  A purely peer-to-peer version of electronic cash would allow online  \n",
      "payments to be sent directly from one party to another without going through a  \n",
      "financial institution.  Digital signatures provide part of the solution, but the main  \n",
      "benefits are lost if a trusted third party is still required to prevent double-spending.  \n",
      "We propose a solution to the double-spending problem using a p\n",
      "{'source': 'bitcoin.pdf', 'page': 0}\n"
     ]
    }
   ],
   "source": [
    "# Load documents\n",
    "\n",
    "# from langchain.document_loaders import WebBaseLoader\n",
    "\n",
    "# loader = WebBaseLoader(\"https://lilianweng.github.io/posts/2023-06-23-agent/\")\n",
    "\n",
    "#loading the pdf document\n",
    "from langchain.document_loaders import PyPDFLoader\n",
    "loader = PyPDFLoader(\"bitcoin.pdf\")\n",
    "pages = loader.load()\n",
    "print(len(pages))\n",
    "print(pages[0].page_content[0:500])\n",
    "print(pages[0].metadata)\n"
   ]
  },
  {
   "cell_type": "code",
   "execution_count": 10,
   "id": "33e42130",
   "metadata": {},
   "outputs": [],
   "source": [
    "# loader.load()"
   ]
  },
  {
   "cell_type": "code",
   "execution_count": 11,
   "id": "ac8576e7",
   "metadata": {},
   "outputs": [],
   "source": [
    "# Split documents\n",
    "\n",
    "# from langchain.text_splitter import CharacterTextSplitter\n",
    "\n",
    "#converting documents to chunk\n",
    "text_splitter = CharacterTextSplitter(chunk_size=1024, chunk_overlap=128)\n",
    "chunks = text_splitter.split_documents(pages)"
   ]
  },
  {
   "cell_type": "code",
   "execution_count": 12,
   "id": "704dea1d",
   "metadata": {},
   "outputs": [
    {
     "data": {
      "text/plain": [
       "9"
      ]
     },
     "execution_count": 12,
     "metadata": {},
     "output_type": "execute_result"
    }
   ],
   "source": [
    "len(chunks)"
   ]
  },
  {
   "cell_type": "code",
   "execution_count": 14,
   "id": "ff8b1901",
   "metadata": {},
   "outputs": [],
   "source": [
    "# embedding model to convert chunks to embeddings\n",
    "\n",
    "persist_directory= \".db2/\"\n",
    "# db = Chroma(persist_directory=persist_directory, embedding_function=embeddings)\n",
    "# memory = ConversationBufferMemory(\n",
    "#     memory_key=\"chat_history\", output_key='answer', return_messages=False)\n",
    "\n",
    "\n"
   ]
  },
  {
   "cell_type": "code",
   "execution_count": 15,
   "id": "ba2f6bfc",
   "metadata": {},
   "outputs": [],
   "source": [
    "from langchain.chat_models import AzureChatOpenAI\n",
    "qa = ConversationalRetrievalChain.from_llm(\n",
    "    llm = AzureChatOpenAI(\n",
    "    openai_api_base=\"https://openaigpt.openai.azure.com/\",\n",
    "    openai_api_version=\"2023-03-15-preview\",\n",
    "    deployment_name='chatllm16k',\n",
    "    openai_api_key=\"##77*********************003fd315264\",\n",
    "    openai_api_type=\"azure\",\n",
    "    temperature=0\n",
    "),\n",
    "    chain_type=\"stuff\",\n",
    "    retriever=db.as_retriever(),\n",
    "    get_chat_history=lambda o:o,\n",
    "    memory=memory,\n",
    "    return_generated_question=True,\n",
    "    verbose=False,\n",
    ")"
   ]
  },
  {
   "cell_type": "code",
   "execution_count": 16,
   "id": "9f85eb0a",
   "metadata": {},
   "outputs": [
    {
     "name": "stdout",
     "output_type": "stream",
     "text": [
      "{'question': 'What is bitcoin', 'chat_history': '', 'answer': 'Bitcoin is a decentralized digital currency that was created in 2009 by an unknown person or group of people using the name Satoshi Nakamoto. It operates on a peer-to-peer network and allows for secure and anonymous transactions to be made without the need for a central authority, such as a bank. Bitcoin transactions are recorded on a public ledger called the blockchain, and the currency is stored in a digital wallet. Bitcoin has gained popularity as a form of investment and is also used for online purchases and money transfers.', 'generated_question': 'What is bitcoin'}\n"
     ]
    }
   ],
   "source": [
    "response=qa({\"question\": \"What is bitcoin\", \"chat_history\": []})\n",
    "print(response)"
   ]
  },
  {
   "cell_type": "code",
   "execution_count": 20,
   "id": "66175371",
   "metadata": {},
   "outputs": [
    {
     "name": "stdout",
     "output_type": "stream",
     "text": [
      "{'question': 'What is digital signature in bitcoin', 'chat_history': 'Human: What is bitcoin\\nAI: Bitcoin is a decentralized digital currency that was created in 2009 by an unknown person or group of people using the name Satoshi Nakamoto. It operates on a peer-to-peer network and allows for secure and anonymous transactions to be made without the need for a central authority, such as a bank. Bitcoin transactions are recorded on a public ledger called the blockchain, and the currency is stored in a digital wallet. Bitcoin has gained popularity as a form of investment and is also used for online purchases and money transfers.\\nHuman: What is digital signature in bitcoin\\nAI: A digital signature in Bitcoin is a cryptographic technique used to verify the authenticity and integrity of a transaction. It is created using the private key of the sender and can be verified using the corresponding public key. The digital signature ensures that the transaction has not been tampered with and that it was indeed initiated by the owner of the private key.\\nHuman: What is digital signature in bitcoin\\nAI: The purpose of a digital signature in Bitcoin is to provide proof of ownership and authenticity of a transaction. It ensures that the transaction has been authorized by the owner of the Bitcoin and prevents tampering or forgery of the transaction.\\nHuman: What is digital signature in bitcoin\\nAI: The purpose of a digital signature in Bitcoin is to provide proof of ownership and authenticity of a transaction. It ensures that the transaction has been authorized by the owner of the Bitcoin and prevents tampering or forgery of the transaction.', 'answer': 'The purpose of a digital signature in Bitcoin is to provide proof of ownership and authenticity of a transaction. It ensures that the transaction has been authorized by the owner of the Bitcoin and prevents tampering or forgery of the transaction.', 'generated_question': 'What is the purpose of a digital signature in Bitcoin?'}\n"
     ]
    }
   ],
   "source": [
    "response=qa({\"question\": \"What is digital signature in bitcoin\", \"chat_history\": []})\n",
    "print(response)"
   ]
  },
  {
   "cell_type": "code",
   "execution_count": null,
   "id": "13b80e9d",
   "metadata": {},
   "outputs": [],
   "source": []
  },
  {
   "cell_type": "code",
   "execution_count": null,
   "id": "3f7d2028",
   "metadata": {},
   "outputs": [],
   "source": []
  },
  {
   "cell_type": "code",
   "execution_count": 13,
   "id": "a77fd744",
   "metadata": {},
   "outputs": [],
   "source": []
  },
  {
   "cell_type": "code",
   "execution_count": null,
   "id": "f7845677",
   "metadata": {},
   "outputs": [],
   "source": []
  },
  {
   "cell_type": "code",
   "execution_count": null,
   "id": "bb68c527",
   "metadata": {},
   "outputs": [],
   "source": []
  },
  {
   "cell_type": "code",
   "execution_count": null,
   "id": "72ff330f",
   "metadata": {},
   "outputs": [],
   "source": []
  },
  {
   "cell_type": "code",
   "execution_count": null,
   "id": "b2707e8b",
   "metadata": {},
   "outputs": [],
   "source": []
  },
  {
   "cell_type": "code",
   "execution_count": null,
   "id": "2a05ec4b",
   "metadata": {},
   "outputs": [],
   "source": []
  },
  {
   "cell_type": "code",
   "execution_count": null,
   "id": "faeca397",
   "metadata": {},
   "outputs": [],
   "source": []
  },
  {
   "cell_type": "code",
   "execution_count": null,
   "id": "a2eddbc6",
   "metadata": {},
   "outputs": [],
   "source": []
  }
 ],
 "metadata": {
  "kernelspec": {
   "display_name": "Python 3 (ipykernel)",
   "language": "python",
   "name": "python3"
  },
  "language_info": {
   "codemirror_mode": {
    "name": "ipython",
    "version": 3
   },
   "file_extension": ".py",
   "mimetype": "text/x-python",
   "name": "python",
   "nbconvert_exporter": "python",
   "pygments_lexer": "ipython3",
   "version": "3.11.5"
  }
 },
 "nbformat": 4,
 "nbformat_minor": 5
}
